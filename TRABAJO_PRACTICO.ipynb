{
  "nbformat": 4,
  "nbformat_minor": 0,
  "metadata": {
    "colab": {
      "name": "TRABAJO PRACTICO.ipynb",
      "version": "0.3.2",
      "provenance": [],
      "collapsed_sections": [],
      "include_colab_link": true
    },
    "kernelspec": {
      "name": "python3",
      "display_name": "Python 3"
    }
  },
  "cells": [
    {
      "cell_type": "markdown",
      "metadata": {
        "id": "view-in-github",
        "colab_type": "text"
      },
      "source": [
        "<a href=\"https://colab.research.google.com/github/lauraDiazDiploDatos/AnalisisyVisualizacion/blob/master/TRABAJO_PRACTICO.ipynb\" target=\"_parent\"><img src=\"https://colab.research.google.com/assets/colab-badge.svg\" alt=\"Open In Colab\"/></a>"
      ]
    },
    {
      "metadata": {
        "id": "tEgcuub0g1Io",
        "colab_type": "text"
      },
      "cell_type": "markdown",
      "source": [
        "#Visualización de datos\n",
        "- En las siguientes lineas de codigo y texto se dara un recorrido por metodos de distintas librerias(a modo de marco teorico) que nos permitiran analizar los datos de una manera grafica.\n",
        "\n",
        "- Este archivo fue creado en base a un ejemplo dado a disposicion por la diplomatura (mucho más completo)\n",
        "\n",
        "- Al finalizar se indican las consignas del trabajo practico a realizar."
      ]
    },
    {
      "metadata": {
        "id": "LzPUcj-bcbII",
        "colab_type": "text"
      },
      "cell_type": "markdown",
      "source": [
        "Una vez descargado el archivos que contiene los datos socioeconomicos de los ingresantes en formato \".csv\" desde el drive que se proporciono en la mentoria usaremos las siguientes lineas de codigo para cargarlas en el google colab."
      ]
    },
    {
      "metadata": {
        "id": "A8fiAoEgcYY6",
        "colab_type": "code",
        "outputId": "0dfa8347-c16c-47d8-eaaf-129c9e8bf465",
        "colab": {
          "resources": {
            "http://localhost:8080/nbextensions/google.colab/files.js": {
              "data": "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",
              "ok": true,
              "headers": [
                [
                  "content-type",
                  "application/javascript"
                ]
              ],
              "status": 200,
              "status_text": ""
            }
          },
          "base_uri": "https://localhost:8080/",
          "height": 91
        }
      },
      "cell_type": "code",
      "source": [
        "from google.colab import files\n",
        "\n",
        "uploaded = files.upload()\n",
        "\n",
        "for fn in uploaded.keys():\n",
        "  print('User uploaded file \"{name}\" with length {length} bytes'.format(\n",
        "      name=fn, length=len(uploaded[fn])))"
      ],
      "execution_count": 0,
      "outputs": [
        {
          "output_type": "display_data",
          "data": {
            "text/html": [
              "\n",
              "     <input type=\"file\" id=\"files-e766c9d0-5070-4a2b-aeaa-80c1cf99dcdb\" name=\"files[]\" multiple disabled />\n",
              "     <output id=\"result-e766c9d0-5070-4a2b-aeaa-80c1cf99dcdb\">\n",
              "      Upload widget is only available when the cell has been executed in the\n",
              "      current browser session. Please rerun this cell to enable.\n",
              "      </output>\n",
              "      <script src=\"/nbextensions/google.colab/files.js\"></script> "
            ],
            "text/plain": [
              "<IPython.core.display.HTML object>"
            ]
          },
          "metadata": {
            "tags": []
          }
        },
        {
          "output_type": "stream",
          "text": [
            "Saving datos_socioeconomicos_ingresantes_noNulls_.csv to datos_socioeconomicos_ingresantes_noNulls_ (1).csv\n",
            "User uploaded file \"datos_socioeconomicos_ingresantes_noNulls_.csv\" with length 3663246 bytes\n"
          ],
          "name": "stdout"
        }
      ]
    },
    {
      "metadata": {
        "id": "4UG133DYisci",
        "colab_type": "text"
      },
      "cell_type": "markdown",
      "source": [
        "**Importacin de librerias a utilizar**\n",
        " - en las siguientes lineas de codigo se importaran las librerias que utilizamos como ejemplo. Es aconsejable que investigues si debes incluir otras y hagas su importación con éxito."
      ]
    },
    {
      "metadata": {
        "id": "3ZPXJTv9cqQX",
        "colab_type": "code",
        "colab": {}
      },
      "cell_type": "code",
      "source": [
        "import matplotlib.pyplot as plt\n",
        "import numpy\n",
        "import pandas\n",
        "import seaborn"
      ],
      "execution_count": 0,
      "outputs": []
    },
    {
      "metadata": {
        "id": "UyF7I3GMc5m1",
        "colab_type": "code",
        "colab": {}
      },
      "cell_type": "code",
      "source": [
        "# Con esto hacemos los gráficos más grandes, adecuados para el proyector.\n",
        "#seaborn.set_context(context='talk', font_scale=1.2)"
      ],
      "execution_count": 0,
      "outputs": []
    },
    {
      "metadata": {
        "id": "1exG1Yx4c9Vt",
        "colab_type": "code",
        "colab": {}
      },
      "cell_type": "code",
      "source": [
        "#crearemos una variable llamada \"dataset\" y a esta le asignaremos el archivo que hemos cargado en el inicio del codigo.\n",
        "dataset = pandas.read_csv(\n",
        "    'datos_socioeconomicos_ingresantes_noNulls_.csv')"
      ],
      "execution_count": 0,
      "outputs": []
    },
    {
      "metadata": {
        "id": "nYjdnYP0dJ28",
        "colab_type": "code",
        "outputId": "a2acc2be-6140-4cbf-b526-e747a8c0dfa3",
        "colab": {
          "base_uri": "https://localhost:8080/",
          "height": 340
        }
      },
      "cell_type": "code",
      "source": [
        "#con la siguiente linea podrmos visualizar las columnas(targets) de nuestro archivo\n",
        "dataset.columns"
      ],
      "execution_count": 0,
      "outputs": [
        {
          "output_type": "execute_result",
          "data": {
            "text/plain": [
              "Index(['fecha_relev', 'carrera', 'nombre_carrera', 'ingreso', 'sexo',\n",
              "       'loc_periodo_lectivo', 'loc_procedencia', 'pais_procedencia',\n",
              "       'prov_procedencia', 'depto_procedencia', 'fecha_nacimiento',\n",
              "       'estado_civil', 'cant_hijos', 'vive_con', 'tiene_beca',\n",
              "       'costea_estudios', 'obra_social', 'trabajo', 'horas_sem_trabajo',\n",
              "       'padre_vive', 'padre_ult_est_curs', 'padre_trabajo', 'madre_vive',\n",
              "       'madre_ult_est_curs', 'madre_trabajo', 'dep_practica', 'dep_prac_fut',\n",
              "       'dep_prac_bas', 'dep_prac_vol', 'dep_prac_gim', 'dep_prac_ten',\n",
              "       'dep_prac_nat', 'dep_prac_han', 'dep_prac_otros', 'idioma_ingles',\n",
              "       'idioma_franc', 'idioma_portu', 'idioma_itali', 'idioma_aleman',\n",
              "       'idioma_otro', 'nombre_colegio_sec', 'titulo_sec', 'tec_pc_casa',\n",
              "       'tec_pc_trab', 'tec_pc_univ', 'tec_pc_otro', 'tec_int_casa',\n",
              "       'tec_int_trab', 'tec_int_univ', 'tec_int_cyber', 'tec_int_otro',\n",
              "       'tec_usint_cha', 'tec_usint_cap', 'tec_usint_est', 'tec_usint_per',\n",
              "       'tec_usint_mail', 'tec_int_regul', 'calidad', 'matcursprisem',\n",
              "       'fechaapro_matematica_al_21-10-2017', 'nota_matematica',\n",
              "       'cantmataprob_al_21-10-2017', 'promedio_con_aplaz_al_21-10-2017',\n",
              "       'promedio_sin_aplaz_al_21-10-2017', 'egresado'],\n",
              "      dtype='object')"
            ]
          },
          "metadata": {
            "tags": []
          },
          "execution_count": 28
        }
      ]
    },
    {
      "metadata": {
        "id": "zyhrj37SkKEh",
        "colab_type": "text"
      },
      "cell_type": "markdown",
      "source": [
        "**Uso de tablas**\n",
        " - Las tablas son de utilidad para comenzar a entender nuestra dateset."
      ]
    },
    {
      "metadata": {
        "id": "qpUoDZxkdTvs",
        "colab_type": "code",
        "outputId": "04199178-4cb6-4019-c460-245b3c4adbe7",
        "colab": {
          "base_uri": "https://localhost:8080/",
          "height": 536
        }
      },
      "cell_type": "code",
      "source": [
        "# con la siguiente linea mostraremos la dataset en forma de tabla, el argumento \"3:10\" indica la fila de inicio y la fila final a mostrar.\n",
        "dataset[3:10]"
      ],
      "execution_count": 0,
      "outputs": [
        {
          "output_type": "execute_result",
          "data": {
            "text/html": [
              "<div>\n",
              "<style scoped>\n",
              "    .dataframe tbody tr th:only-of-type {\n",
              "        vertical-align: middle;\n",
              "    }\n",
              "\n",
              "    .dataframe tbody tr th {\n",
              "        vertical-align: top;\n",
              "    }\n",
              "\n",
              "    .dataframe thead th {\n",
              "        text-align: right;\n",
              "    }\n",
              "</style>\n",
              "<table border=\"1\" class=\"dataframe\">\n",
              "  <thead>\n",
              "    <tr style=\"text-align: right;\">\n",
              "      <th></th>\n",
              "      <th>fecha_relev</th>\n",
              "      <th>carrera</th>\n",
              "      <th>nombre_carrera</th>\n",
              "      <th>ingreso</th>\n",
              "      <th>sexo</th>\n",
              "      <th>loc_periodo_lectivo</th>\n",
              "      <th>loc_procedencia</th>\n",
              "      <th>pais_procedencia</th>\n",
              "      <th>prov_procedencia</th>\n",
              "      <th>depto_procedencia</th>\n",
              "      <th>...</th>\n",
              "      <th>tec_usint_mail</th>\n",
              "      <th>tec_int_regul</th>\n",
              "      <th>calidad</th>\n",
              "      <th>matcursprisem</th>\n",
              "      <th>fechaapro_matematica_al_21-10-2017</th>\n",
              "      <th>nota_matematica</th>\n",
              "      <th>cantmataprob_al_21-10-2017</th>\n",
              "      <th>promedio_con_aplaz_al_21-10-2017</th>\n",
              "      <th>promedio_sin_aplaz_al_21-10-2017</th>\n",
              "      <th>egresado</th>\n",
              "    </tr>\n",
              "  </thead>\n",
              "  <tbody>\n",
              "    <tr>\n",
              "      <th>3</th>\n",
              "      <td>10/13/2017</td>\n",
              "      <td>223</td>\n",
              "      <td>Ingeniería Biomédica</td>\n",
              "      <td>2016</td>\n",
              "      <td>2</td>\n",
              "      <td>Córdoba</td>\n",
              "      <td>Córdoba</td>\n",
              "      <td>Argentina</td>\n",
              "      <td>Cordoba</td>\n",
              "      <td>Capital</td>\n",
              "      <td>...</td>\n",
              "      <td>No indicado</td>\n",
              "      <td>Accede a Internet Solo algunas veces por seman...</td>\n",
              "      <td>A</td>\n",
              "      <td>0</td>\n",
              "      <td>No indicado</td>\n",
              "      <td>No indicado</td>\n",
              "      <td>0</td>\n",
              "      <td>No indicado</td>\n",
              "      <td>No indicado</td>\n",
              "      <td>N</td>\n",
              "    </tr>\n",
              "    <tr>\n",
              "      <th>4</th>\n",
              "      <td>02/14/2017</td>\n",
              "      <td>212</td>\n",
              "      <td>Ingeniería Mecánica</td>\n",
              "      <td>2016</td>\n",
              "      <td>1</td>\n",
              "      <td>Córdoba</td>\n",
              "      <td>Córdoba</td>\n",
              "      <td>Argentina</td>\n",
              "      <td>Cordoba</td>\n",
              "      <td>Capital</td>\n",
              "      <td>...</td>\n",
              "      <td>No indicado</td>\n",
              "      <td>Accede a Internet Todos los días              ...</td>\n",
              "      <td>A</td>\n",
              "      <td>2</td>\n",
              "      <td>No indicado</td>\n",
              "      <td>No indicado</td>\n",
              "      <td>2</td>\n",
              "      <td>7</td>\n",
              "      <td>7</td>\n",
              "      <td>N</td>\n",
              "    </tr>\n",
              "    <tr>\n",
              "      <th>5</th>\n",
              "      <td>02/07/2017</td>\n",
              "      <td>285</td>\n",
              "      <td>Ingeniería en Computación</td>\n",
              "      <td>2017</td>\n",
              "      <td>1</td>\n",
              "      <td>Córdoba</td>\n",
              "      <td>Córdoba</td>\n",
              "      <td>Argentina</td>\n",
              "      <td>Cordoba</td>\n",
              "      <td>Capital</td>\n",
              "      <td>...</td>\n",
              "      <td>No indicado</td>\n",
              "      <td>Accede a Internet Todos los días              ...</td>\n",
              "      <td>A</td>\n",
              "      <td>0</td>\n",
              "      <td>No indicado</td>\n",
              "      <td>No indicado</td>\n",
              "      <td>1</td>\n",
              "      <td>No indicado</td>\n",
              "      <td>No indicado</td>\n",
              "      <td>N</td>\n",
              "    </tr>\n",
              "    <tr>\n",
              "      <th>6</th>\n",
              "      <td>12/14/2016</td>\n",
              "      <td>246</td>\n",
              "      <td>Ingeniería Química</td>\n",
              "      <td>2017</td>\n",
              "      <td>2</td>\n",
              "      <td>MONTE CRISTO</td>\n",
              "      <td>MONTE CRISTO</td>\n",
              "      <td>Argentina</td>\n",
              "      <td>Cordoba</td>\n",
              "      <td>Río Primero</td>\n",
              "      <td>...</td>\n",
              "      <td>No indicado</td>\n",
              "      <td>Accede a Internet Todos los días              ...</td>\n",
              "      <td>A</td>\n",
              "      <td>0</td>\n",
              "      <td>No indicado</td>\n",
              "      <td>No indicado</td>\n",
              "      <td>0</td>\n",
              "      <td>No indicado</td>\n",
              "      <td>No indicado</td>\n",
              "      <td>N</td>\n",
              "    </tr>\n",
              "    <tr>\n",
              "      <th>7</th>\n",
              "      <td>05/04/2017</td>\n",
              "      <td>232</td>\n",
              "      <td>Ingeniería Aeronáutica</td>\n",
              "      <td>2016</td>\n",
              "      <td>1</td>\n",
              "      <td>Córdoba</td>\n",
              "      <td>GENERAL PICO</td>\n",
              "      <td>Argentina</td>\n",
              "      <td>La Pampa</td>\n",
              "      <td>Maracó</td>\n",
              "      <td>...</td>\n",
              "      <td>Utiliza Internet para correo electrónico      ...</td>\n",
              "      <td>Accede a Internet Todos los días              ...</td>\n",
              "      <td>A</td>\n",
              "      <td>2</td>\n",
              "      <td>No indicado</td>\n",
              "      <td>No indicado</td>\n",
              "      <td>5</td>\n",
              "      <td>6.33</td>\n",
              "      <td>6.33</td>\n",
              "      <td>N</td>\n",
              "    </tr>\n",
              "    <tr>\n",
              "      <th>8</th>\n",
              "      <td>05/04/2017</td>\n",
              "      <td>232</td>\n",
              "      <td>Ingeniería Aeronáutica</td>\n",
              "      <td>2016</td>\n",
              "      <td>1</td>\n",
              "      <td>Córdoba</td>\n",
              "      <td>GENERAL PICO</td>\n",
              "      <td>Argentina</td>\n",
              "      <td>La Pampa</td>\n",
              "      <td>Maracó</td>\n",
              "      <td>...</td>\n",
              "      <td>Utiliza Internet para correo electrónico      ...</td>\n",
              "      <td>Accede a Internet Todos los días              ...</td>\n",
              "      <td>A</td>\n",
              "      <td>2</td>\n",
              "      <td>No indicado</td>\n",
              "      <td>No indicado</td>\n",
              "      <td>5</td>\n",
              "      <td>6.33</td>\n",
              "      <td>6.33</td>\n",
              "      <td>N</td>\n",
              "    </tr>\n",
              "    <tr>\n",
              "      <th>9</th>\n",
              "      <td>12/20/2016</td>\n",
              "      <td>232</td>\n",
              "      <td>Ingeniería Aeronáutica</td>\n",
              "      <td>2016</td>\n",
              "      <td>1</td>\n",
              "      <td>VILLA GIARDINO</td>\n",
              "      <td>VILLA GIARDINO</td>\n",
              "      <td>Argentina</td>\n",
              "      <td>Cordoba</td>\n",
              "      <td>Punilla</td>\n",
              "      <td>...</td>\n",
              "      <td>Utiliza Internet para correo electrónico      ...</td>\n",
              "      <td>Accede a Internet Todos los días              ...</td>\n",
              "      <td>A</td>\n",
              "      <td>1</td>\n",
              "      <td>No indicado</td>\n",
              "      <td>No indicado</td>\n",
              "      <td>3</td>\n",
              "      <td>7</td>\n",
              "      <td>7</td>\n",
              "      <td>N</td>\n",
              "    </tr>\n",
              "  </tbody>\n",
              "</table>\n",
              "<p>7 rows × 65 columns</p>\n",
              "</div>"
            ],
            "text/plain": [
              "  fecha_relev carrera             nombre_carrera  ingreso  sexo  \\\n",
              "3  10/13/2017     223       Ingeniería Biomédica     2016     2   \n",
              "4  02/14/2017     212        Ingeniería Mecánica     2016     1   \n",
              "5  02/07/2017     285  Ingeniería en Computación     2017     1   \n",
              "6  12/14/2016     246         Ingeniería Química     2017     2   \n",
              "7  05/04/2017     232     Ingeniería Aeronáutica     2016     1   \n",
              "8  05/04/2017     232     Ingeniería Aeronáutica     2016     1   \n",
              "9  12/20/2016     232     Ingeniería Aeronáutica     2016     1   \n",
              "\n",
              "  loc_periodo_lectivo loc_procedencia pais_procedencia prov_procedencia  \\\n",
              "3             Córdoba         Córdoba        Argentina          Cordoba   \n",
              "4             Córdoba         Córdoba        Argentina          Cordoba   \n",
              "5             Córdoba         Córdoba        Argentina          Cordoba   \n",
              "6        MONTE CRISTO    MONTE CRISTO        Argentina          Cordoba   \n",
              "7             Córdoba    GENERAL PICO        Argentina         La Pampa   \n",
              "8             Córdoba    GENERAL PICO        Argentina         La Pampa   \n",
              "9      VILLA GIARDINO  VILLA GIARDINO        Argentina          Cordoba   \n",
              "\n",
              "  depto_procedencia  ...                                     tec_usint_mail  \\\n",
              "3           Capital  ...                                        No indicado   \n",
              "4           Capital  ...                                        No indicado   \n",
              "5           Capital  ...                                        No indicado   \n",
              "6       Río Primero  ...                                        No indicado   \n",
              "7            Maracó  ...  Utiliza Internet para correo electrónico      ...   \n",
              "8            Maracó  ...  Utiliza Internet para correo electrónico      ...   \n",
              "9           Punilla  ...  Utiliza Internet para correo electrónico      ...   \n",
              "\n",
              "                                       tec_int_regul  calidad matcursprisem  \\\n",
              "3  Accede a Internet Solo algunas veces por seman...        A             0   \n",
              "4  Accede a Internet Todos los días              ...        A             2   \n",
              "5  Accede a Internet Todos los días              ...        A             0   \n",
              "6  Accede a Internet Todos los días              ...        A             0   \n",
              "7  Accede a Internet Todos los días              ...        A             2   \n",
              "8  Accede a Internet Todos los días              ...        A             2   \n",
              "9  Accede a Internet Todos los días              ...        A             1   \n",
              "\n",
              "  fechaapro_matematica_al_21-10-2017 nota_matematica  \\\n",
              "3                        No indicado     No indicado   \n",
              "4                        No indicado     No indicado   \n",
              "5                        No indicado     No indicado   \n",
              "6                        No indicado     No indicado   \n",
              "7                        No indicado     No indicado   \n",
              "8                        No indicado     No indicado   \n",
              "9                        No indicado     No indicado   \n",
              "\n",
              "  cantmataprob_al_21-10-2017 promedio_con_aplaz_al_21-10-2017  \\\n",
              "3                          0                      No indicado   \n",
              "4                          2                                7   \n",
              "5                          1                      No indicado   \n",
              "6                          0                      No indicado   \n",
              "7                          5                             6.33   \n",
              "8                          5                             6.33   \n",
              "9                          3                                7   \n",
              "\n",
              "  promedio_sin_aplaz_al_21-10-2017 egresado  \n",
              "3                      No indicado        N  \n",
              "4                                7        N  \n",
              "5                      No indicado        N  \n",
              "6                      No indicado        N  \n",
              "7                             6.33        N  \n",
              "8                             6.33        N  \n",
              "9                                7        N  \n",
              "\n",
              "[7 rows x 65 columns]"
            ]
          },
          "metadata": {
            "tags": []
          },
          "execution_count": 52
        }
      ]
    },
    {
      "metadata": {
        "id": "IXr9eDijdigL",
        "colab_type": "code",
        "outputId": "35cc5afb-0f1f-4040-bb00-cdd2d830df25",
        "colab": {
          "base_uri": "https://localhost:8080/",
          "height": 34
        }
      },
      "cell_type": "code",
      "source": [
        "# Cantidad de filas y de columnas de nuestra dataSet\n",
        "dataset.shape"
      ],
      "execution_count": 0,
      "outputs": [
        {
          "output_type": "execute_result",
          "data": {
            "text/plain": [
              "(2598, 65)"
            ]
          },
          "metadata": {
            "tags": []
          },
          "execution_count": 30
        }
      ]
    },
    {
      "metadata": {
        "id": "R-gOKkIOl2f3",
        "colab_type": "text"
      },
      "cell_type": "markdown",
      "source": [
        "- La libreria de pandas nos permite realizar algunas operaciones simples de estadistica descriptiva."
      ]
    },
    {
      "metadata": {
        "id": "KdU1_tt_d266",
        "colab_type": "code",
        "outputId": "c9131cfe-7cb5-4093-dcd9-dff016281f71",
        "colab": {
          "base_uri": "https://localhost:8080/",
          "height": 170
        }
      },
      "cell_type": "code",
      "source": [
        "# Descripción de la distribución de la variable \"nota_matematica\"\n",
        "# solo en los registros donde \"pais_procedencia\" tiene el valor \n",
        "dataset[dataset['pais_procedencia'] == 'Argentina']['cantmataprob_al_21-10-2017'].describe()"
      ],
      "execution_count": 0,
      "outputs": [
        {
          "output_type": "execute_result",
          "data": {
            "text/plain": [
              "count    2572.000000\n",
              "mean        3.311042\n",
              "std         2.427251\n",
              "min         0.000000\n",
              "25%         1.000000\n",
              "50%         3.000000\n",
              "75%         5.000000\n",
              "max        22.000000\n",
              "Name: cantmataprob_al_21-10-2017, dtype: float64"
            ]
          },
          "metadata": {
            "tags": []
          },
          "execution_count": 58
        }
      ]
    },
    {
      "metadata": {
        "id": "_lIBrdtkmZxP",
        "colab_type": "text"
      },
      "cell_type": "markdown",
      "source": [
        "**graficos de barra**\n",
        "- Los gráficos de barra son lo más adecuados para ver, por ejemplo, la cantidad de registro por género, por provincia, incluso por nivel de estudios. Además de eso, necesitamos seleccionar una variable aleatoria con datos numéricos para poder graficar en el eje x.\n",
        "\n"
      ]
    },
    {
      "metadata": {
        "id": "TiXRVV7nejH3",
        "colab_type": "code",
        "outputId": "b641cd8a-f0e8-411c-83ae-21ee235b498b",
        "colab": {
          "base_uri": "https://localhost:8080/",
          "height": 372
        }
      },
      "cell_type": "code",
      "source": [
        "# en la siguiente linea se grafica la cantidad de materias aprobadas de acuerdo al genero.\n",
        "seaborn.barplot(data=dataset, x='sexo', y='cantmataprob_al_21-10-2017')"
      ],
      "execution_count": 0,
      "outputs": [
        {
          "output_type": "execute_result",
          "data": {
            "text/plain": [
              "<matplotlib.axes._subplots.AxesSubplot at 0x7fad42f8f828>"
            ]
          },
          "metadata": {
            "tags": []
          },
          "execution_count": 55
        },
        {
          "output_type": "display_data",
          "data": {
            "image/png": "[encoded data removed]",
            "text/plain": [
              "<Figure size 432x288 with 1 Axes>"
            ]
          },
          "metadata": {
            "tags": []
          }
        }
      ]
    },
    {
      "metadata": {
        "id": "MY1ybae-st--",
        "colab_type": "text"
      },
      "cell_type": "markdown",
      "source": [
        " - En este gráfico estamos viendo el promedio de materias aprobadas de cada uno de los grupos. Sin embargo, esto no es evidente a primera vista. ¿Cuál es el rango de la variable y? Como vimos anteriormente, el valor máximo que puede tomar es 22, si no mostramos esto, el gráfico no tiene punto de referencia. Hay que tener en cuenta que muchas veces, el nombre original de la columna no representa la información agregada.\n",
        "\n",
        " - Por otra parte, ¿qué significan las líneas negras? Son los intervalos de confianza, que tienen un valor por default de 95. Indica que el verdadero valor poblacional del estadístico se encuentra en ese rango, con una confianza del 95%. \n",
        "\n",
        " - Este estadísico suele ser difícil de interpretar para quienes no son expertos en estadística, puede ser conveniente reemplazarlo por la desviación estándar de la muestra. Si bien estamos usando la misma codificación visual (las rayitas negras), los valores que representamos son completamente distintos. Si usamos un intervalo de confianza, estamos hablando de la distribución del estimador de la media poblacional, que es una variable aleatorio que toma valores en todas las muestras posibles. Por otro lado, si usamos la desviación estándar, estamos hablando del valor del estadístico en esta muestra.\n",
        "\n",
        " - Con esas observaciones, podemos contruir un gráfico más representativo."
      ]
    },
    {
      "metadata": {
        "id": "hfg9-DwIgtga",
        "colab_type": "code",
        "outputId": "fe8effa9-c68d-4b4a-eef0-567c40f453e2",
        "colab": {
          "base_uri": "https://localhost:8080/",
          "height": 422
        }
      },
      "cell_type": "code",
      "source": [
        "plt.figure(figsize=(10,6))\n",
        "seaborn.barplot(data=dataset, x='sexo', y='cantmataprob_al_21-10-2017', ci='sd')\n",
        "plt.ylabel('cantmataprob_al_21-10-2017')\n",
        "plt.xlabel('sexo')\n",
        "plt.ylim(0, 10)\n",
        "seaborn.despine(left=True)"
      ],
      "execution_count": 0,
      "outputs": [
        {
          "output_type": "display_data",
          "data": {
            "image/png": "[encoded data removed]",
            "text/plain": [
              "<Figure size 720x432 with 1 Axes>"
            ]
          },
          "metadata": {
            "tags": []
          }
        }
      ]
    },
    {
      "metadata": {
        "id": "XRvA1ACNyYh_",
        "colab_type": "text"
      },
      "cell_type": "markdown",
      "source": [
        "**Countplot**\n",
        " - Otro gráfico de barra muy útil es el que en el eje vertical tiene el conteo de la cantidad de registros en una categoría. Seaborn puede graficar esto muy fácilmente!"
      ]
    },
    {
      "metadata": {
        "id": "VJ-I_zQlyrLT",
        "colab_type": "code",
        "outputId": "4a56aaa2-ac75-4794-8c43-ad169bd13e72",
        "colab": {
          "base_uri": "https://localhost:8080/",
          "height": 439
        }
      },
      "cell_type": "code",
      "source": [
        "# en la siguiente linea se graficara la cantidad de sexo 1 y 2 contenidos en nuestro archivo\n",
        "plt.figure(figsize=(10,6))\n",
        "seaborn.countplot(data=dataset, x='sexo')"
      ],
      "execution_count": 0,
      "outputs": [
        {
          "output_type": "execute_result",
          "data": {
            "text/plain": [
              "<matplotlib.axes._subplots.AxesSubplot at 0x7fad42d791d0>"
            ]
          },
          "metadata": {
            "tags": []
          },
          "execution_count": 64
        },
        {
          "output_type": "display_data",
          "data": {
            "image/png": "[encoded data removed]",
            "text/plain": [
              "<Figure size 720x432 with 1 Axes>"
            ]
          },
          "metadata": {
            "tags": []
          }
        }
      ]
    },
    {
      "metadata": {
        "id": "qvph3IYqzd9k",
        "colab_type": "code",
        "outputId": "8d855bfa-d20d-4475-dcb5-0c67a62d7303",
        "colab": {
          "base_uri": "https://localhost:8080/",
          "height": 630
        }
      },
      "cell_type": "code",
      "source": [
        "plt.figure(figsize=(10,6))\n",
        "seaborn.countplot(data=dataset, x='obra_social')\n",
        "seaborn.despine()\n",
        "plt.xticks(rotation=45)"
      ],
      "execution_count": 0,
      "outputs": [
        {
          "output_type": "execute_result",
          "data": {
            "text/plain": [
              "(array([0, 1, 2, 3, 4]), <a list of 5 Text xticklabel objects>)"
            ]
          },
          "metadata": {
            "tags": []
          },
          "execution_count": 68
        },
        {
          "output_type": "display_data",
          "data": {
            "image/png": "[encoded data removed]",
            "text/plain": [
              "<Figure size 720x432 with 1 Axes>"
            ]
          },
          "metadata": {
            "tags": []
          }
        }
      ]
    },
    {
      "metadata": {
        "id": "NMVZjsjo28qs",
        "colab_type": "text"
      },
      "cell_type": "markdown",
      "source": [
        "- con el marco teorico dado es mas que suficiente para entender la manera en que se manejan las librerias dadas, evidentemente no sera suficiente para realizar las actividades que se les dara. es por eso que en el Drive de la mentoria podras encontrar 4 documentos que seran de mucha utilidad:\n",
        "\n",
        "\n",
        "\n",
        "1.   tipos_de_graficos.ipynb (el cual fue tomado como referencia para armar este marco teorico)\n",
        "2.   regresion_lineal.ipynb\n",
        "3.   distribuciones.ipynb\n",
        "4.   librerias_de_visualizacion.ipynb\n",
        "\n",
        "\n",
        "\n"
      ]
    },
    {
      "metadata": {
        "id": "K41u-6dhiGjB",
        "colab_type": "text"
      },
      "cell_type": "markdown",
      "source": [
        "# Practico Nº1 \"Analisis y visualizacion de datos\"\n"
      ]
    },
    {
      "metadata": {
        "id": "_pOt3Gufic83",
        "colab_type": "code",
        "colab": {}
      },
      "cell_type": "code",
      "source": [
        "Objetivo y alcance: A partir del procesamiento estadístico de los datos se obtendrá una aproximación que describa el comportamiento del volumen de estudiantes atendiendo a sus características de mayor interés, similitudes, predicciones, etc. En síntesis, adquirir habilidades para obtener estadísticos, analizar relaciones existentes entre distintas variables,observar su distribución, hacer relaciones bayesianas entre ellas, etc.\n",
        "Método:  Los datos están disponibles en el repositorio de github: https://drive.google.com/drive/u/1/folders/1VHl1ECNW6mO8QH5abGeCdcV2Vc2ynIcE \n",
        "Estructura del informe: en formato  pdf o markdow.\n",
        "El contenido del informe debe dar cuenta de una adecuada manipulaicón de las herramientas estadísticas para visualizar resultados de interés del estudiante en contextos de masividad. Incorporando elementos de Estadística descriptiva,  Estadística inferencial y  Visualización.\n",
        "El informe deberá  mostrar la interpretación que surge del análisis realizado.\n",
        "Evaluación: Los criterios de evaluación consideran: un tratamiento integral de los conceptos abordados en la materia, adecuadas elección y uso de las herramientas, la calidad de la visualización de los resultados y su posterior interpretación.\n",
        "Fecha de evaluación: dos semanas a contar desde la finalización de la materia\n",
        "  \n",
        "Consignas:\n",
        "  \n"
      ],
      "execution_count": 0,
      "outputs": []
    }
  ]
}